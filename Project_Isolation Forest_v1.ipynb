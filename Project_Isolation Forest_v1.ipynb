{
 "cells": [
  {
   "cell_type": "code",
   "execution_count": 1,
   "id": "006d2026-3ee4-4811-8fa4-a151a8054dd9",
   "metadata": {},
   "outputs": [],
   "source": [
    "import numpy as np\n",
    "import pandas as pd\n",
    "import ast\n",
    "import seaborn as sns\n",
    "import matplotlib.pyplot as plt\n",
    "from sklearn.ensemble import IsolationForest\n",
    "from sklearn.metrics import classification_report\n",
    "from sklearn.metrics import confusion_matrix\n",
    "from sklearn.metrics import roc_curve, roc_auc_score\n",
    "# import sklearn"
   ]
  },
  {
   "cell_type": "code",
   "execution_count": 118,
   "id": "a50f1a2d-4ed8-45f6-8567-b1142dd1b0fe",
   "metadata": {},
   "outputs": [],
   "source": [
    "df_train = pd.read_csv('labelled_training_data.csv')\n",
    "df_valid = pd.read_csv('labelled_validation_data.csv')\n",
    "df_test = pd.read_csv('labelled_testing_data.csv')"
   ]
  },
  {
   "cell_type": "code",
   "execution_count": 60,
   "id": "a1129900-0830-48ca-ad8c-5377736967c7",
   "metadata": {},
   "outputs": [],
   "source": [
    "# want to include but not included:\n",
    "# timestamp, processName(but it probably means the same to processId, and might miss categories), args\n",
    "\n",
    "def preprocess(df):\n",
    "    # Provided by BETH author (Highman 2021)\n",
    "    df_preprocessed = pd.DataFrame(df[['processId', 'parentProcessId', 'userId', 'mountNamespace', 'eventId', 'stackAddresses', 'returnValue']])\n",
    "\n",
    "    # Process IDs: Map to 0 for OS processes, else 1\n",
    "    df_preprocessed['processId'] = df['processId'].map(lambda x: 0 if x in [0, 1, 2] else 1)  # Map to OS\n",
    "\n",
    "    # Parent Process IDs: Map to 0 for OS processes, else 1\n",
    "    df_preprocessed['parentProcessId'] = df['parentProcessId'].map(lambda x: 0 if x in [0, 1, 2] else 1)  # Map to OS\n",
    "\n",
    "    # User IDs: Map to 1 for users with IDs < 1000 (likely OS users), else 0\n",
    "    df_preprocessed['userId'] = df['userId'].map(lambda x: 1 if x < 1000 else 0)  # Map to OS users\n",
    "\n",
    "    # Namespace IDs: Check for specific value (402653184) for certain processes, else map to 0\n",
    "    df_preprocessed['mountNamespace'] = df['mountNamespace'].map(lambda x: 0 if x == 402653184 else 1)  # Check for OS processes\n",
    "\n",
    "    # Event IDs: Keep event IDs as is (assuming we need to know the maximum value) One-hot coding(?)\n",
    "    df_preprocessed['eventId'] = df['eventId']\n",
    "\n",
    "    # Convert the 'stackAddresses' string into a list of addresses\n",
    "    df_preprocessed['stackAddresses'] = df['stackAddresses'].apply(lambda x: len(ast.literal_eval(x)) if x else 0)\n",
    "\n",
    "    # Return Value: Map returnValue to 0 for 'failure', 1 for 'success', or 2 for unknown\n",
    "    df_preprocessed['returnValue'] = df['returnValue'].map(lambda x: 0 if x == 0 else (1 if x == 1 else 2))\n",
    "\n",
    "    return df_preprocessed"
   ]
  },
  {
   "cell_type": "code",
   "execution_count": 62,
   "id": "4432447f-0555-4790-b18a-e0a35e69d81b",
   "metadata": {},
   "outputs": [],
   "source": [
    "X_train = preprocess(df_train)\n",
    "X_valid = preprocess(df_valid)\n",
    "X_test = preprocess(df_test)"
   ]
  },
  {
   "cell_type": "code",
   "execution_count": 66,
   "id": "86dd08d7-6771-4644-992a-dfd2dccc70eb",
   "metadata": {},
   "outputs": [],
   "source": [
    "y_train = df_train['evil']\n",
    "y_valid = df_valid['evil']\n",
    "y_test = df_test['evil']"
   ]
  },
  {
   "cell_type": "code",
   "execution_count": 70,
   "id": "ebbbb0ca-ae29-4d1a-9a92-565e72d37c40",
   "metadata": {},
   "outputs": [],
   "source": [
    "clf = IsolationForest(random_state = 10).fit(X_train)"
   ]
  },
  {
   "cell_type": "code",
   "execution_count": 72,
   "id": "2e5ff96f-3a62-472c-a99f-ca01826fd908",
   "metadata": {},
   "outputs": [],
   "source": [
    "score_valid = clf.decision_function(X_valid)\n",
    "anomaly_valid = clf.predict(X_valid)"
   ]
  },
  {
   "cell_type": "code",
   "execution_count": 74,
   "id": "193472d3-3fc5-462f-b936-52b98560fb61",
   "metadata": {},
   "outputs": [],
   "source": [
    "df_anomaly_valid = pd.DataFrame({'anomaly': anomaly_valid})\n",
    "df_anomaly_valid['anomaly'] = df_anomaly_valid['anomaly'].apply(lambda x: 1 if x == -1 else 0)"
   ]
  },
  {
   "cell_type": "code",
   "execution_count": 76,
   "id": "f1553729-2a18-45e5-a5dd-7062dc6f60cb",
   "metadata": {},
   "outputs": [
    {
     "name": "stdout",
     "output_type": "stream",
     "text": [
      "Confusion Matrix:\n",
      "[[146359  42608]\n",
      " [     0      0]]\n"
     ]
    }
   ],
   "source": [
    "cm_valid = confusion_matrix(y_valid, df_anomaly_valid['anomaly'])\n",
    "print(\"Confusion Matrix:\")\n",
    "print(cm_valid)"
   ]
  },
  {
   "cell_type": "code",
   "execution_count": 78,
   "id": "9b53fb95-c267-4f15-bcad-e7e453f6a323",
   "metadata": {},
   "outputs": [
    {
     "name": "stdout",
     "output_type": "stream",
     "text": [
      "Classification Report on Testing Data:\n",
      "              precision    recall  f1-score   support\n",
      "\n",
      "           0       1.00      0.77      0.87    188967\n",
      "           1       0.00      0.00      0.00         0\n",
      "\n",
      "    accuracy                           0.77    188967\n",
      "   macro avg       0.50      0.39      0.44    188967\n",
      "weighted avg       1.00      0.77      0.87    188967\n",
      "\n"
     ]
    },
    {
     "name": "stderr",
     "output_type": "stream",
     "text": [
      "C:\\Users\\User\\anaconda3\\Lib\\site-packages\\sklearn\\metrics\\_classification.py:1509: UndefinedMetricWarning: Recall is ill-defined and being set to 0.0 in labels with no true samples. Use `zero_division` parameter to control this behavior.\n",
      "  _warn_prf(average, modifier, f\"{metric.capitalize()} is\", len(result))\n",
      "C:\\Users\\User\\anaconda3\\Lib\\site-packages\\sklearn\\metrics\\_classification.py:1509: UndefinedMetricWarning: Recall is ill-defined and being set to 0.0 in labels with no true samples. Use `zero_division` parameter to control this behavior.\n",
      "  _warn_prf(average, modifier, f\"{metric.capitalize()} is\", len(result))\n",
      "C:\\Users\\User\\anaconda3\\Lib\\site-packages\\sklearn\\metrics\\_classification.py:1509: UndefinedMetricWarning: Recall is ill-defined and being set to 0.0 in labels with no true samples. Use `zero_division` parameter to control this behavior.\n",
      "  _warn_prf(average, modifier, f\"{metric.capitalize()} is\", len(result))\n"
     ]
    }
   ],
   "source": [
    "# classification_report for precision, recall, F1-score, and accuracy\n",
    "report = classification_report(y_valid, df_anomaly_valid['anomaly'])\n",
    "print(\"Classification Report on Testing Data:\")\n",
    "print(report)"
   ]
  },
  {
   "cell_type": "code",
   "execution_count": 80,
   "id": "0964de82-9f49-4823-bae9-28686f82ea2d",
   "metadata": {},
   "outputs": [],
   "source": [
    "score_test = clf.decision_function(X_test)\n",
    "anomaly_test = clf.predict(X_test)"
   ]
  },
  {
   "cell_type": "code",
   "execution_count": 82,
   "id": "4ffd569f-3428-475b-81cc-b1961cd8b953",
   "metadata": {},
   "outputs": [],
   "source": [
    "df_anomaly_test = pd.DataFrame({'anomaly': anomaly_test})\n",
    "df_anomaly_test['anomaly'] = df_anomaly_test['anomaly'].apply(lambda x: 1 if x == -1 else 0)"
   ]
  },
  {
   "cell_type": "code",
   "execution_count": 84,
   "id": "968c5513-11bd-414f-9181-5fc3ed726c11",
   "metadata": {},
   "outputs": [
    {
     "name": "stdout",
     "output_type": "stream",
     "text": [
      "Confusion Matrix:\n",
      "[[ 18856  11679]\n",
      " [  9235 149197]]\n"
     ]
    }
   ],
   "source": [
    "cm = confusion_matrix(y_test, df_anomaly_test['anomaly'])\n",
    "print(\"Confusion Matrix:\")\n",
    "print(cm)"
   ]
  },
  {
   "cell_type": "code",
   "execution_count": 86,
   "id": "c7c4ff4b-78d3-4762-93ac-c1c196bb31e0",
   "metadata": {},
   "outputs": [
    {
     "name": "stdout",
     "output_type": "stream",
     "text": [
      "Classification Report on Testing Data:\n",
      "              precision    recall  f1-score   support\n",
      "\n",
      "           0       0.67      0.62      0.64     30535\n",
      "           1       0.93      0.94      0.93    158432\n",
      "\n",
      "    accuracy                           0.89    188967\n",
      "   macro avg       0.80      0.78      0.79    188967\n",
      "weighted avg       0.89      0.89      0.89    188967\n",
      "\n"
     ]
    }
   ],
   "source": [
    "# classification_report for precision, recall, F1-score, and accuracy\n",
    "report = classification_report(y_test, df_anomaly_test['anomaly'])\n",
    "print(\"Classification Report on Testing Data:\")\n",
    "print(report)"
   ]
  },
  {
   "cell_type": "code",
   "execution_count": 88,
   "id": "aa481055-7b17-4b92-9dde-29dfda4ff0e8",
   "metadata": {},
   "outputs": [
    {
     "name": "stdout",
     "output_type": "stream",
     "text": [
      "ROC AUC score for Test Data: 0.21\n"
     ]
    },
    {
     "data": {
      "image/png": "[encoded data removed]",
      "text/plain": [
       "<Figure size 800x600 with 1 Axes>"
      ]
     },
     "metadata": {},
     "output_type": "display_data"
    }
   ],
   "source": [
    "if len(np.unique(y_test)) > 1:\n",
    "    # Compute ROC curve and ROC AUC score for test set\n",
    "    fpr, tpr, thresholds = roc_curve(y_test, score_test)\n",
    "    roc_auc = roc_auc_score(y_test, score_test)\n",
    "\n",
    "    # Print the ROC AUC score\n",
    "    print(f\"ROC AUC score for Test Data: {roc_auc:.2f}\")\n",
    "\n",
    "    # Plot the ROC curve\n",
    "    plt.figure(figsize=(8, 6))\n",
    "    plt.plot(fpr, tpr, color='blue', lw=2, label=f'ROC curve (area = {roc_auc:.2f})')\n",
    "    plt.plot([0, 1], [0, 1], color='gray', linestyle='--')  # Diagonal line (random classifier)\n",
    "    plt.xlabel('False Positive Rate (FPR)')\n",
    "    plt.ylabel('True Positive Rate (TPR)')\n",
    "    plt.title('Receiver Operating Characteristic (ROC) Curve')\n",
    "    plt.legend(loc='lower right')\n",
    "    plt.show()\n",
    "\n",
    "else:\n",
    "    print(\"Error: Only one class present in the test data. Cannot compute ROC AUC.\")"
   ]
  },
  {
   "cell_type": "markdown",
   "id": "88cfe89c-631e-4622-a799-60846bec25fb",
   "metadata": {},
   "source": [
    "Below is result without stackaddress"
   ]
  },
  {
   "cell_type": "code",
   "execution_count": 90,
   "id": "d77ffbe3-d270-4391-9a3b-bc55175b283f",
   "metadata": {},
   "outputs": [],
   "source": [
    "# want to include but not included:\n",
    "# timestamp, processName(but it probably means the same to processId, and might miss categories), args\n",
    "\n",
    "def preprocess(df):\n",
    "    # Provided by BETH author (Highman 2021)\n",
    "    df_preprocessed = pd.DataFrame(df[['processId', 'parentProcessId', 'userId', 'mountNamespace', 'eventId', 'returnValue']])\n",
    "\n",
    "    # Process IDs: Map to 0 for OS processes, else 1\n",
    "    df_preprocessed['processId'] = df['processId'].map(lambda x: 0 if x in [0, 1, 2] else 1)  # Map to OS\n",
    "\n",
    "    # Parent Process IDs: Map to 0 for OS processes, else 1\n",
    "    df_preprocessed['parentProcessId'] = df['parentProcessId'].map(lambda x: 0 if x in [0, 1, 2] else 1)  # Map to OS\n",
    "\n",
    "    # User IDs: Map to 1 for users with IDs < 1000 (likely OS users), else 0\n",
    "    df_preprocessed['userId'] = df['userId'].map(lambda x: 1 if x < 1000 else 0)  # Map to OS users\n",
    "\n",
    "    # Namespace IDs: Check for specific value (402653184) for certain processes, else map to 0\n",
    "    df_preprocessed['mountNamespace'] = df['mountNamespace'].map(lambda x: 0 if x == 402653184 else 1)  # Check for OS processes\n",
    "\n",
    "    # Event IDs: Keep event IDs as is (assuming we need to know the maximum value) One-hot coding(?)\n",
    "    df_preprocessed['eventId'] = df['eventId']\n",
    "\n",
    "    # Return Value: Map returnValue to 0 for 'failure', 1 for 'success', or 2 for unknown\n",
    "    df_preprocessed['returnValue'] = df['returnValue'].map(lambda x: 0 if x == 0 else (1 if x == 1 else 2))\n",
    "\n",
    "    return df_preprocessed"
   ]
  },
  {
   "cell_type": "code",
   "execution_count": 94,
   "id": "a4b1c78b-b21d-4e4f-82cc-8d6542d19ff3",
   "metadata": {},
   "outputs": [],
   "source": [
    "X_train = preprocess(df_train)\n",
    "X_valid = preprocess(df_valid)\n",
    "X_test = preprocess(df_test)"
   ]
  },
  {
   "cell_type": "code",
   "execution_count": 95,
   "id": "b2b1b312-edf7-4d4f-b8f0-3a259721a6b1",
   "metadata": {},
   "outputs": [],
   "source": [
    "y_train = df_train['evil']\n",
    "y_valid = df_valid['evil']\n",
    "y_test = df_test['evil']"
   ]
  },
  {
   "cell_type": "code",
   "execution_count": 98,
   "id": "5cd4d6af-67f2-496c-90e0-75f38f237d38",
   "metadata": {},
   "outputs": [],
   "source": [
    "clf = IsolationForest(random_state = 10).fit(X_train)"
   ]
  },
  {
   "cell_type": "code",
   "execution_count": 106,
   "id": "922a5c79-11a1-48c9-ba8b-9a560832e79d",
   "metadata": {},
   "outputs": [],
   "source": [
    "score = clf.decision_function(X_test)\n",
    "anomaly = clf.predict(X_test)"
   ]
  },
  {
   "cell_type": "code",
   "execution_count": 108,
   "id": "ed4ed61c-7850-48b9-93a8-fa3b48d4014e",
   "metadata": {},
   "outputs": [
    {
     "data": {
      "text/plain": [
       "numpy.ndarray"
      ]
     },
     "execution_count": 108,
     "metadata": {},
     "output_type": "execute_result"
    }
   ],
   "source": [
    "type(anomaly)"
   ]
  },
  {
   "cell_type": "code",
   "execution_count": 110,
   "id": "544609af-0512-41b3-ab88-b41950e3b2b1",
   "metadata": {},
   "outputs": [
    {
     "data": {
      "text/html": [
       "<div>\n",
       "<style scoped>\n",
       "    .dataframe tbody tr th:only-of-type {\n",
       "        vertical-align: middle;\n",
       "    }\n",
       "\n",
       "    .dataframe tbody tr th {\n",
       "        vertical-align: top;\n",
       "    }\n",
       "\n",
       "    .dataframe thead th {\n",
       "        text-align: right;\n",
       "    }\n",
       "</style>\n",
       "<table border=\"1\" class=\"dataframe\">\n",
       "  <thead>\n",
       "    <tr style=\"text-align: right;\">\n",
       "      <th></th>\n",
       "      <th>anomaly</th>\n",
       "    </tr>\n",
       "  </thead>\n",
       "  <tbody>\n",
       "    <tr>\n",
       "      <th>0</th>\n",
       "      <td>-1</td>\n",
       "    </tr>\n",
       "    <tr>\n",
       "      <th>1</th>\n",
       "      <td>-1</td>\n",
       "    </tr>\n",
       "    <tr>\n",
       "      <th>2</th>\n",
       "      <td>-1</td>\n",
       "    </tr>\n",
       "    <tr>\n",
       "      <th>3</th>\n",
       "      <td>-1</td>\n",
       "    </tr>\n",
       "    <tr>\n",
       "      <th>4</th>\n",
       "      <td>-1</td>\n",
       "    </tr>\n",
       "    <tr>\n",
       "      <th>...</th>\n",
       "      <td>...</td>\n",
       "    </tr>\n",
       "    <tr>\n",
       "      <th>188962</th>\n",
       "      <td>-1</td>\n",
       "    </tr>\n",
       "    <tr>\n",
       "      <th>188963</th>\n",
       "      <td>-1</td>\n",
       "    </tr>\n",
       "    <tr>\n",
       "      <th>188964</th>\n",
       "      <td>-1</td>\n",
       "    </tr>\n",
       "    <tr>\n",
       "      <th>188965</th>\n",
       "      <td>-1</td>\n",
       "    </tr>\n",
       "    <tr>\n",
       "      <th>188966</th>\n",
       "      <td>-1</td>\n",
       "    </tr>\n",
       "  </tbody>\n",
       "</table>\n",
       "<p>188967 rows × 1 columns</p>\n",
       "</div>"
      ],
      "text/plain": [
       "        anomaly\n",
       "0            -1\n",
       "1            -1\n",
       "2            -1\n",
       "3            -1\n",
       "4            -1\n",
       "...         ...\n",
       "188962       -1\n",
       "188963       -1\n",
       "188964       -1\n",
       "188965       -1\n",
       "188966       -1\n",
       "\n",
       "[188967 rows x 1 columns]"
      ]
     },
     "execution_count": 110,
     "metadata": {},
     "output_type": "execute_result"
    }
   ],
   "source": [
    "df_anomaly = pd.DataFrame({'anomaly': anomaly})\n",
    "df_anomaly"
   ]
  },
  {
   "cell_type": "code",
   "execution_count": 112,
   "id": "1d27ef11-b743-4f24-acc8-bf1ea4d3635d",
   "metadata": {},
   "outputs": [
    {
     "data": {
      "text/html": [
       "<div>\n",
       "<style scoped>\n",
       "    .dataframe tbody tr th:only-of-type {\n",
       "        vertical-align: middle;\n",
       "    }\n",
       "\n",
       "    .dataframe tbody tr th {\n",
       "        vertical-align: top;\n",
       "    }\n",
       "\n",
       "    .dataframe thead th {\n",
       "        text-align: right;\n",
       "    }\n",
       "</style>\n",
       "<table border=\"1\" class=\"dataframe\">\n",
       "  <thead>\n",
       "    <tr style=\"text-align: right;\">\n",
       "      <th></th>\n",
       "      <th>anomaly</th>\n",
       "    </tr>\n",
       "  </thead>\n",
       "  <tbody>\n",
       "    <tr>\n",
       "      <th>0</th>\n",
       "      <td>1</td>\n",
       "    </tr>\n",
       "    <tr>\n",
       "      <th>1</th>\n",
       "      <td>1</td>\n",
       "    </tr>\n",
       "    <tr>\n",
       "      <th>2</th>\n",
       "      <td>1</td>\n",
       "    </tr>\n",
       "    <tr>\n",
       "      <th>3</th>\n",
       "      <td>1</td>\n",
       "    </tr>\n",
       "    <tr>\n",
       "      <th>4</th>\n",
       "      <td>1</td>\n",
       "    </tr>\n",
       "    <tr>\n",
       "      <th>...</th>\n",
       "      <td>...</td>\n",
       "    </tr>\n",
       "    <tr>\n",
       "      <th>188962</th>\n",
       "      <td>1</td>\n",
       "    </tr>\n",
       "    <tr>\n",
       "      <th>188963</th>\n",
       "      <td>1</td>\n",
       "    </tr>\n",
       "    <tr>\n",
       "      <th>188964</th>\n",
       "      <td>1</td>\n",
       "    </tr>\n",
       "    <tr>\n",
       "      <th>188965</th>\n",
       "      <td>1</td>\n",
       "    </tr>\n",
       "    <tr>\n",
       "      <th>188966</th>\n",
       "      <td>1</td>\n",
       "    </tr>\n",
       "  </tbody>\n",
       "</table>\n",
       "<p>188967 rows × 1 columns</p>\n",
       "</div>"
      ],
      "text/plain": [
       "        anomaly\n",
       "0             1\n",
       "1             1\n",
       "2             1\n",
       "3             1\n",
       "4             1\n",
       "...         ...\n",
       "188962        1\n",
       "188963        1\n",
       "188964        1\n",
       "188965        1\n",
       "188966        1\n",
       "\n",
       "[188967 rows x 1 columns]"
      ]
     },
     "execution_count": 112,
     "metadata": {},
     "output_type": "execute_result"
    }
   ],
   "source": [
    "df_anomaly['anomaly'] = df_anomaly['anomaly'].apply(lambda x: 1 if x == -1 else 0)\n",
    "df_anomaly"
   ]
  },
  {
   "cell_type": "code",
   "execution_count": 114,
   "id": "9ef27188-2ea1-45cb-be67-6ec2a39d1ff4",
   "metadata": {},
   "outputs": [
    {
     "name": "stdout",
     "output_type": "stream",
     "text": [
      "Confusion Matrix:\n",
      "[[ 19120  11415]\n",
      " [  9723 148709]]\n"
     ]
    }
   ],
   "source": [
    "from sklearn.metrics import confusion_matrix, classification_report\n",
    "\n",
    "# Assuming 'anomaly' is the model's prediction and 'true_labels' is the ground truth\n",
    "cm = confusion_matrix(df_test['evil'], df_anomaly['anomaly'])\n",
    "print(\"Confusion Matrix:\")\n",
    "print(cm)"
   ]
  },
  {
   "cell_type": "code",
   "execution_count": 116,
   "id": "71b617d7-060e-4eca-b956-610b0d6abe16",
   "metadata": {},
   "outputs": [
    {
     "name": "stdout",
     "output_type": "stream",
     "text": [
      "Classification Report:\n",
      "              precision    recall  f1-score   support\n",
      "\n",
      "           0       0.66      0.63      0.64     30535\n",
      "           1       0.93      0.94      0.93    158432\n",
      "\n",
      "    accuracy                           0.89    188967\n",
      "   macro avg       0.80      0.78      0.79    188967\n",
      "weighted avg       0.89      0.89      0.89    188967\n",
      "\n"
     ]
    }
   ],
   "source": [
    "report = classification_report(df_test['evil'], df_anomaly['anomaly'])\n",
    "print(\"Classification Report:\")\n",
    "print(report)"
   ]
  }
 ],
 "metadata": {
  "kernelspec": {
   "display_name": "Python 3 (ipykernel)",
   "language": "python",
   "name": "python3"
  },
  "language_info": {
   "codemirror_mode": {
    "name": "ipython",
    "version": 3
   },
   "file_extension": ".py",
   "mimetype": "text/x-python",
   "name": "python",
   "nbconvert_exporter": "python",
   "pygments_lexer": "ipython3",
   "version": "3.12.4"
  }
 },
 "nbformat": 4,
 "nbformat_minor": 5
}
