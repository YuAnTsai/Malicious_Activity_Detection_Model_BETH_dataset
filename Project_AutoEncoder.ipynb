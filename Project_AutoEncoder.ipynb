{
 "cells": [
  {
   "cell_type": "markdown",
   "metadata": {},
   "source": [
    "Run in Colab"
   ]
  },
  {
   "cell_type": "code",
   "execution_count": 1,
   "metadata": {
    "id": "SSv2dQ22jLr9"
   },
   "outputs": [],
   "source": [
    "import numpy as np\n",
    "import pandas as pd\n",
    "import ast\n",
    "import seaborn as sns\n",
    "import matplotlib.pyplot as plt\n",
    "import time\n",
    "from sklearn.metrics import classification_report\n",
    "from sklearn.metrics import confusion_matrix"
   ]
  },
  {
   "cell_type": "code",
   "execution_count": 2,
   "metadata": {
    "id": "l2yjztpKjOUY"
   },
   "outputs": [],
   "source": [
    "df_train = pd.read_csv('/content/drive/MyDrive/data/labelled_training_data.csv')\n",
    "df_valid = pd.read_csv('/content/drive/MyDrive/data/labelled_validation_data.csv')\n",
    "df_test = pd.read_csv('/content/drive/MyDrive/data/labelled_testing_data.csv')"
   ]
  },
  {
   "cell_type": "code",
   "execution_count": 34,
   "metadata": {
    "id": "yXFKUrvZk9bs"
   },
   "outputs": [],
   "source": [
    "def preprocess(df):\n",
    "    # Provided by BETH author (Highman 2021)\n",
    "    df_preprocessed = pd.DataFrame(df[['processId', 'parentProcessId', 'userId', 'mountNamespace', 'eventId', 'stackAddresses', 'returnValue']])\n",
    "\n",
    "    # Process IDs: Map to 0 for OS processes, else 1\n",
    "    df_preprocessed['processId'] = df['processId'].map(lambda x: 0 if x in [0, 1, 2] else 1)  # Map to OS\n",
    "\n",
    "    # Parent Process IDs: Map to 0 for OS processes, else 1\n",
    "    df_preprocessed['parentProcessId'] = df['parentProcessId'].map(lambda x: 0 if x in [0, 1, 2] else 1)  # Map to OS\n",
    "\n",
    "    # User IDs: Map to 1 for users with IDs < 1000 (likely OS users), else 0\n",
    "    df_preprocessed['userId'] = df['userId'].map(lambda x: 1 if x < 1000 else 0)  # Map to OS users\n",
    "\n",
    "    # Namespace IDs: Check for specific value (402653184) for certain processes, else map to 0\n",
    "    df_preprocessed['mountNamespace'] = df['mountNamespace'].map(lambda x: 0 if x == 402653184 else 1)  # Check for OS processes\n",
    "\n",
    "    # Event IDs: Keep event IDs as is (assuming we need to know the maximum value) One-hot coding(?)\n",
    "    df_preprocessed['eventId'] = df['eventId']\n",
    "\n",
    "    # Convert the 'stackAddresses' list of addresses to the number of addresses\n",
    "    df_preprocessed['stackAddresses'] = df['stackAddresses'].apply(lambda x: len(ast.literal_eval(x)) if x else 0)\n",
    "\n",
    "    # Return Value: Map returnValue to 0 for 'failure', 1 for 'success', or 2 for unknown\n",
    "    df_preprocessed['returnValue'] = df['returnValue'].map(lambda x: 0 if x == 0 else (1 if x == 1 else 2))\n",
    "\n",
    "    return df_preprocessed"
   ]
  },
  {
   "cell_type": "code",
   "execution_count": 4,
   "metadata": {
    "id": "AE2aa62jk9ef"
   },
   "outputs": [],
   "source": [
    "X_train = preprocess(df_train)\n",
    "X_valid = preprocess(df_valid)\n",
    "X_test = preprocess(df_test)"
   ]
  },
  {
   "cell_type": "code",
   "execution_count": 5,
   "metadata": {
    "id": "YJd9aA8OrF1q"
   },
   "outputs": [],
   "source": [
    "y_train = df_train['evil']\n",
    "y_valid = df_valid['evil']\n",
    "y_test = df_test['evil']"
   ]
  },
  {
   "cell_type": "code",
   "execution_count": 6,
   "metadata": {
    "colab": {
     "base_uri": "https://localhost:8080/"
    },
    "id": "1HEMRO-_k9hE",
    "outputId": "b455f60b-d760-4616-f88a-cbb28b98d0e6"
   },
   "outputs": [
    {
     "name": "stderr",
     "output_type": "stream",
     "text": [
      "/usr/local/lib/python3.11/dist-packages/keras/src/layers/core/dense.py:87: UserWarning: Do not pass an `input_shape`/`input_dim` argument to a layer. When using Sequential models, prefer using an `Input(shape)` object as the first layer in the model instead.\n",
      "  super().__init__(activity_regularizer=activity_regularizer, **kwargs)\n"
     ]
    },
    {
     "name": "stdout",
     "output_type": "stream",
     "text": [
      "Epoch 1/20\n",
      "\u001b[1m2683/2683\u001b[0m \u001b[32m━━━━━━━━━━━━━━━━━━━━\u001b[0m\u001b[37m\u001b[0m \u001b[1m11s\u001b[0m 3ms/step - loss: 0.6784 - val_loss: 0.5251\n",
      "Epoch 2/20\n",
      "\u001b[1m2683/2683\u001b[0m \u001b[32m━━━━━━━━━━━━━━━━━━━━\u001b[0m\u001b[37m\u001b[0m \u001b[1m9s\u001b[0m 3ms/step - loss: 0.6372 - val_loss: 0.5251\n",
      "Epoch 3/20\n",
      "\u001b[1m2683/2683\u001b[0m \u001b[32m━━━━━━━━━━━━━━━━━━━━\u001b[0m\u001b[37m\u001b[0m \u001b[1m10s\u001b[0m 3ms/step - loss: 0.6285 - val_loss: 0.5251\n",
      "Epoch 4/20\n",
      "\u001b[1m2683/2683\u001b[0m \u001b[32m━━━━━━━━━━━━━━━━━━━━\u001b[0m\u001b[37m\u001b[0m \u001b[1m9s\u001b[0m 3ms/step - loss: 0.6285 - val_loss: 0.5251\n",
      "Epoch 5/20\n",
      "\u001b[1m2683/2683\u001b[0m \u001b[32m━━━━━━━━━━━━━━━━━━━━\u001b[0m\u001b[37m\u001b[0m \u001b[1m12s\u001b[0m 4ms/step - loss: 0.6249 - val_loss: 0.5251\n",
      "Epoch 6/20\n",
      "\u001b[1m2683/2683\u001b[0m \u001b[32m━━━━━━━━━━━━━━━━━━━━\u001b[0m\u001b[37m\u001b[0m \u001b[1m19s\u001b[0m 3ms/step - loss: 0.6308 - val_loss: 0.5251\n",
      "Epoch 7/20\n",
      "\u001b[1m2683/2683\u001b[0m \u001b[32m━━━━━━━━━━━━━━━━━━━━\u001b[0m\u001b[37m\u001b[0m \u001b[1m11s\u001b[0m 3ms/step - loss: 0.6238 - val_loss: 0.5251\n",
      "Epoch 8/20\n",
      "\u001b[1m2683/2683\u001b[0m \u001b[32m━━━━━━━━━━━━━━━━━━━━\u001b[0m\u001b[37m\u001b[0m \u001b[1m9s\u001b[0m 3ms/step - loss: 0.6349 - val_loss: 0.5251\n",
      "Epoch 9/20\n",
      "\u001b[1m2683/2683\u001b[0m \u001b[32m━━━━━━━━━━━━━━━━━━━━\u001b[0m\u001b[37m\u001b[0m \u001b[1m10s\u001b[0m 3ms/step - loss: 0.6269 - val_loss: 0.5251\n",
      "Epoch 10/20\n",
      "\u001b[1m2683/2683\u001b[0m \u001b[32m━━━━━━━━━━━━━━━━━━━━\u001b[0m\u001b[37m\u001b[0m \u001b[1m9s\u001b[0m 3ms/step - loss: 0.6182 - val_loss: 0.5252\n",
      "Epoch 11/20\n",
      "\u001b[1m2683/2683\u001b[0m \u001b[32m━━━━━━━━━━━━━━━━━━━━\u001b[0m\u001b[37m\u001b[0m \u001b[1m10s\u001b[0m 3ms/step - loss: 0.6261 - val_loss: 0.5257\n",
      "Epoch 12/20\n",
      "\u001b[1m2683/2683\u001b[0m \u001b[32m━━━━━━━━━━━━━━━━━━━━\u001b[0m\u001b[37m\u001b[0m \u001b[1m8s\u001b[0m 3ms/step - loss: 0.6333 - val_loss: 0.5258\n",
      "Epoch 13/20\n",
      "\u001b[1m2683/2683\u001b[0m \u001b[32m━━━━━━━━━━━━━━━━━━━━\u001b[0m\u001b[37m\u001b[0m \u001b[1m9s\u001b[0m 3ms/step - loss: 0.6227 - val_loss: 0.5257\n",
      "Epoch 14/20\n",
      "\u001b[1m2683/2683\u001b[0m \u001b[32m━━━━━━━━━━━━━━━━━━━━\u001b[0m\u001b[37m\u001b[0m \u001b[1m8s\u001b[0m 3ms/step - loss: 0.6301 - val_loss: 0.5257\n",
      "Epoch 15/20\n",
      "\u001b[1m2683/2683\u001b[0m \u001b[32m━━━━━━━━━━━━━━━━━━━━\u001b[0m\u001b[37m\u001b[0m \u001b[1m9s\u001b[0m 3ms/step - loss: 0.6223 - val_loss: 0.5257\n",
      "Epoch 16/20\n",
      "\u001b[1m2683/2683\u001b[0m \u001b[32m━━━━━━━━━━━━━━━━━━━━\u001b[0m\u001b[37m\u001b[0m \u001b[1m10s\u001b[0m 4ms/step - loss: 0.6295 - val_loss: 0.5257\n",
      "Epoch 17/20\n",
      "\u001b[1m2683/2683\u001b[0m \u001b[32m━━━━━━━━━━━━━━━━━━━━\u001b[0m\u001b[37m\u001b[0m \u001b[1m7s\u001b[0m 3ms/step - loss: 0.6284 - val_loss: 0.5257\n",
      "Epoch 18/20\n",
      "\u001b[1m2683/2683\u001b[0m \u001b[32m━━━━━━━━━━━━━━━━━━━━\u001b[0m\u001b[37m\u001b[0m \u001b[1m14s\u001b[0m 4ms/step - loss: 0.6260 - val_loss: 0.5251\n",
      "Epoch 19/20\n",
      "\u001b[1m2683/2683\u001b[0m \u001b[32m━━━━━━━━━━━━━━━━━━━━\u001b[0m\u001b[37m\u001b[0m \u001b[1m9s\u001b[0m 4ms/step - loss: 0.6268 - val_loss: 0.5251\n",
      "Epoch 20/20\n",
      "\u001b[1m2683/2683\u001b[0m \u001b[32m━━━━━━━━━━━━━━━━━━━━\u001b[0m\u001b[37m\u001b[0m \u001b[1m10s\u001b[0m 3ms/step - loss: 0.6295 - val_loss: 0.5251\n"
     ]
    },
    {
     "data": {
      "text/plain": [
       "<keras.src.callbacks.history.History at 0x78431e5cee10>"
      ]
     },
     "execution_count": 6,
     "metadata": {},
     "output_type": "execute_result"
    }
   ],
   "source": [
    "from keras.models import Sequential\n",
    "from keras.layers import Dense\n",
    "from sklearn.preprocessing import StandardScaler\n",
    "\n",
    "scaler = StandardScaler()\n",
    "X_train_scaled = scaler.fit_transform(X_train)\n",
    "\n",
    "# Build Autoencoder\n",
    "model = Sequential([\n",
    "    Dense(64, activation='relu', input_dim = X_train_scaled.shape[1]),\n",
    "    Dense(32, activation='relu'),\n",
    "    Dense(16, activation='relu'),\n",
    "    Dense(32, activation='relu'),\n",
    "    Dense(64, activation='relu'),\n",
    "    Dense(X_train_scaled.shape[1], activation = 'sigmoid')\n",
    "])\n",
    "\n",
    "model.compile(optimizer='adam', loss='mean_squared_error')\n",
    "\n",
    "# Train autoencoder\n",
    "model.fit(X_train_scaled, X_train_scaled, epochs=20, batch_size=256, validation_split=0.1)"
   ]
  },
  {
   "cell_type": "code",
   "execution_count": 7,
   "metadata": {
    "colab": {
     "base_uri": "https://localhost:8080/"
    },
    "id": "2co-tDrPo1CF",
    "outputId": "09d5afda-28b1-43ce-a22c-8ad6310b7d46"
   },
   "outputs": [
    {
     "name": "stdout",
     "output_type": "stream",
     "text": [
      "\u001b[1m23849/23849\u001b[0m \u001b[32m━━━━━━━━━━━━━━━━━━━━\u001b[0m\u001b[37m\u001b[0m \u001b[1m31s\u001b[0m 1ms/step\n",
      "\u001b[1m5906/5906\u001b[0m \u001b[32m━━━━━━━━━━━━━━━━━━━━\u001b[0m\u001b[37m\u001b[0m \u001b[1m7s\u001b[0m 1ms/step\n"
     ]
    }
   ],
   "source": [
    "# Calculate the threshold from the training data\n",
    "reconstruction_error_train = np.mean(np.abs(X_train_scaled - model.predict(X_train_scaled)), axis=1)\n",
    "threshold = np.percentile(reconstruction_error_train, 95)\n",
    "\n",
    "# Scale test data\n",
    "X_test_scaled = scaler.transform(X_test)\n",
    "\n",
    "# Predict the reconstruction of the test data\n",
    "reconstructed_test = model.predict(X_test_scaled)\n",
    "\n",
    "# Calculate the reconstruction error for each test data point\n",
    "reconstruction_error_test = np.mean(np.abs(X_test_scaled - reconstructed_test), axis=1)\n",
    "\n",
    "# Classify test data points as anomalies (1) or normal (0)\n",
    "predictions = (reconstruction_error_test > threshold).astype(int)"
   ]
  },
  {
   "cell_type": "code",
   "execution_count": 8,
   "metadata": {
    "colab": {
     "base_uri": "https://localhost:8080/"
    },
    "id": "-qoy0dt-o8sY",
    "outputId": "5982f0c5-021a-4832-8218-00548cef7698"
   },
   "outputs": [
    {
     "name": "stdout",
     "output_type": "stream",
     "text": [
      "Precision: 0.9580643196491655\n",
      "Recall: 0.9928234195112099\n",
      "F1-Score: 0.9751342169541121\n",
      "ROC-AUC: 0.8836722304695397\n"
     ]
    }
   ],
   "source": [
    "from sklearn.metrics import precision_score, recall_score, f1_score, roc_auc_score\n",
    "\n",
    "precision = precision_score(y_test, predictions)\n",
    "recall = recall_score(y_test, predictions)\n",
    "f1 = f1_score(y_test, predictions)\n",
    "roc_auc = roc_auc_score(y_test, predictions)\n",
    "\n",
    "print(f\"Precision: {precision}\")\n",
    "print(f\"Recall: {recall}\")\n",
    "print(f\"F1-Score: {f1}\")\n",
    "print(f\"ROC-AUC: {roc_auc}\")"
   ]
  },
  {
   "cell_type": "code",
   "execution_count": 9,
   "metadata": {
    "colab": {
     "base_uri": "https://localhost:8080/"
    },
    "id": "BQby-0plcaHa",
    "outputId": "83023992-01be-4db8-8e14-8fcbc4732ae1"
   },
   "outputs": [
    {
     "name": "stdout",
     "output_type": "stream",
     "text": [
      "              precision    recall  f1-score   support\n",
      "\n",
      "           0       0.95      0.77      0.85     30535\n",
      "           1       0.96      0.99      0.98    158432\n",
      "\n",
      "    accuracy                           0.96    188967\n",
      "   macro avg       0.96      0.88      0.92    188967\n",
      "weighted avg       0.96      0.96      0.96    188967\n",
      "\n"
     ]
    }
   ],
   "source": [
    "# Generate classification report\n",
    "print(classification_report(y_test, predictions))"
   ]
  },
  {
   "cell_type": "code",
   "execution_count": 10,
   "metadata": {
    "colab": {
     "base_uri": "https://localhost:8080/",
     "height": 472
    },
    "id": "r69Jccqyo-gx",
    "outputId": "f01d8739-7ec2-4b47-afcb-1792b031fb97"
   },
   "outputs": [
    {
     "data": {
      "image/png": "[encoded data removed]",
      "text/plain": [
       "<Figure size 640x480 with 1 Axes>"
      ]
     },
     "metadata": {},
     "output_type": "display_data"
    }
   ],
   "source": [
    "from sklearn.metrics import precision_recall_curve\n",
    "import matplotlib.pyplot as plt\n",
    "\n",
    "precision, recall, thresholds = precision_recall_curve(y_test, reconstruction_error_test)\n",
    "\n",
    "plt.plot(recall, precision, marker='.')\n",
    "plt.xlabel('Recall')\n",
    "plt.ylabel('Precision')\n",
    "plt.title('Precision-Recall Curve')\n",
    "plt.show()"
   ]
  },
  {
   "cell_type": "code",
   "execution_count": 11,
   "metadata": {
    "colab": {
     "base_uri": "https://localhost:8080/",
     "height": 472
    },
    "id": "1bfB94UdpCCF",
    "outputId": "4342ed41-2745-4c57-9def-1bcfbeda91d6"
   },
   "outputs": [
    {
     "data": {
      "image/png": "[encoded data removed]",
      "text/plain": [
       "<Figure size 640x480 with 1 Axes>"
      ]
     },
     "metadata": {},
     "output_type": "display_data"
    }
   ],
   "source": [
    "from sklearn.metrics import roc_curve\n",
    "\n",
    "fpr, tpr, _ = roc_curve(y_test, reconstruction_error_test)\n",
    "\n",
    "# Calculate the ROC AUC score\n",
    "roc_auc = roc_auc_score(y_test, reconstruction_error_test)\n",
    "\n",
    "# Plot the ROC curve\n",
    "plt.plot(fpr, tpr, marker='.')\n",
    "plt.xlabel('False Positive Rate')\n",
    "plt.ylabel('True Positive Rate')\n",
    "plt.title(f'ROC Curve (AUC = {roc_auc:.2f})')  # Display the AUC score on the title\n",
    "\n",
    "# Show the plot\n",
    "plt.show()"
   ]
  },
  {
   "cell_type": "markdown",
   "metadata": {
    "id": "gq-yPJj1_Lpb"
   },
   "source": [
    "With 3 Features"
   ]
  },
  {
   "cell_type": "code",
   "execution_count": 12,
   "metadata": {
    "colab": {
     "base_uri": "https://localhost:8080/"
    },
    "id": "clgrdUQOwvEa",
    "outputId": "03d1f7ff-dc03-4d40-b0d6-a74134716f6e"
   },
   "outputs": [
    {
     "name": "stdout",
     "output_type": "stream",
     "text": [
      "Epoch 1/20\n"
     ]
    },
    {
     "name": "stderr",
     "output_type": "stream",
     "text": [
      "/usr/local/lib/python3.11/dist-packages/keras/src/layers/core/dense.py:87: UserWarning: Do not pass an `input_shape`/`input_dim` argument to a layer. When using Sequential models, prefer using an `Input(shape)` object as the first layer in the model instead.\n",
      "  super().__init__(activity_regularizer=activity_regularizer, **kwargs)\n"
     ]
    },
    {
     "name": "stdout",
     "output_type": "stream",
     "text": [
      "\u001b[1m2683/2683\u001b[0m \u001b[32m━━━━━━━━━━━━━━━━━━━━\u001b[0m\u001b[37m\u001b[0m \u001b[1m11s\u001b[0m 3ms/step - loss: 0.9510 - val_loss: 0.8804\n",
      "Epoch 2/20\n",
      "\u001b[1m2683/2683\u001b[0m \u001b[32m━━━━━━━━━━━━━━━━━━━━\u001b[0m\u001b[37m\u001b[0m \u001b[1m10s\u001b[0m 4ms/step - loss: 0.9721 - val_loss: 0.8804\n",
      "Epoch 3/20\n",
      "\u001b[1m2683/2683\u001b[0m \u001b[32m━━━━━━━━━━━━━━━━━━━━\u001b[0m\u001b[37m\u001b[0m \u001b[1m10s\u001b[0m 3ms/step - loss: 0.9579 - val_loss: 0.8804\n",
      "Epoch 4/20\n",
      "\u001b[1m2683/2683\u001b[0m \u001b[32m━━━━━━━━━━━━━━━━━━━━\u001b[0m\u001b[37m\u001b[0m \u001b[1m8s\u001b[0m 3ms/step - loss: 0.9629 - val_loss: 0.8804\n",
      "Epoch 5/20\n",
      "\u001b[1m2683/2683\u001b[0m \u001b[32m━━━━━━━━━━━━━━━━━━━━\u001b[0m\u001b[37m\u001b[0m \u001b[1m12s\u001b[0m 4ms/step - loss: 0.9553 - val_loss: 0.8804\n",
      "Epoch 6/20\n",
      "\u001b[1m2683/2683\u001b[0m \u001b[32m━━━━━━━━━━━━━━━━━━━━\u001b[0m\u001b[37m\u001b[0m \u001b[1m9s\u001b[0m 4ms/step - loss: 0.9568 - val_loss: 0.8804\n",
      "Epoch 7/20\n",
      "\u001b[1m2683/2683\u001b[0m \u001b[32m━━━━━━━━━━━━━━━━━━━━\u001b[0m\u001b[37m\u001b[0m \u001b[1m8s\u001b[0m 3ms/step - loss: 0.9675 - val_loss: 0.8804\n",
      "Epoch 8/20\n",
      "\u001b[1m2683/2683\u001b[0m \u001b[32m━━━━━━━━━━━━━━━━━━━━\u001b[0m\u001b[37m\u001b[0m \u001b[1m12s\u001b[0m 3ms/step - loss: 0.9900 - val_loss: 0.8804\n",
      "Epoch 9/20\n",
      "\u001b[1m2683/2683\u001b[0m \u001b[32m━━━━━━━━━━━━━━━━━━━━\u001b[0m\u001b[37m\u001b[0m \u001b[1m10s\u001b[0m 4ms/step - loss: 0.9636 - val_loss: 0.8803\n",
      "Epoch 10/20\n",
      "\u001b[1m2683/2683\u001b[0m \u001b[32m━━━━━━━━━━━━━━━━━━━━\u001b[0m\u001b[37m\u001b[0m \u001b[1m10s\u001b[0m 3ms/step - loss: 0.9622 - val_loss: 0.8803\n",
      "Epoch 11/20\n",
      "\u001b[1m2683/2683\u001b[0m \u001b[32m━━━━━━━━━━━━━━━━━━━━\u001b[0m\u001b[37m\u001b[0m \u001b[1m9s\u001b[0m 3ms/step - loss: 0.9845 - val_loss: 0.8803\n",
      "Epoch 12/20\n",
      "\u001b[1m2683/2683\u001b[0m \u001b[32m━━━━━━━━━━━━━━━━━━━━\u001b[0m\u001b[37m\u001b[0m \u001b[1m9s\u001b[0m 4ms/step - loss: 0.9673 - val_loss: 0.8803\n",
      "Epoch 13/20\n",
      "\u001b[1m2683/2683\u001b[0m \u001b[32m━━━━━━━━━━━━━━━━━━━━\u001b[0m\u001b[37m\u001b[0m \u001b[1m10s\u001b[0m 3ms/step - loss: 0.9670 - val_loss: 0.8803\n",
      "Epoch 14/20\n",
      "\u001b[1m2683/2683\u001b[0m \u001b[32m━━━━━━━━━━━━━━━━━━━━\u001b[0m\u001b[37m\u001b[0m \u001b[1m8s\u001b[0m 3ms/step - loss: 0.9720 - val_loss: 0.8803\n",
      "Epoch 15/20\n",
      "\u001b[1m2683/2683\u001b[0m \u001b[32m━━━━━━━━━━━━━━━━━━━━\u001b[0m\u001b[37m\u001b[0m \u001b[1m12s\u001b[0m 4ms/step - loss: 0.9465 - val_loss: 0.8803\n",
      "Epoch 16/20\n",
      "\u001b[1m2683/2683\u001b[0m \u001b[32m━━━━━━━━━━━━━━━━━━━━\u001b[0m\u001b[37m\u001b[0m \u001b[1m17s\u001b[0m 3ms/step - loss: 0.9671 - val_loss: 0.8803\n",
      "Epoch 17/20\n",
      "\u001b[1m2683/2683\u001b[0m \u001b[32m━━━━━━━━━━━━━━━━━━━━\u001b[0m\u001b[37m\u001b[0m \u001b[1m12s\u001b[0m 4ms/step - loss: 0.9631 - val_loss: 0.8803\n",
      "Epoch 18/20\n",
      "\u001b[1m2683/2683\u001b[0m \u001b[32m━━━━━━━━━━━━━━━━━━━━\u001b[0m\u001b[37m\u001b[0m \u001b[1m10s\u001b[0m 4ms/step - loss: 0.9664 - val_loss: 0.8803\n",
      "Epoch 19/20\n",
      "\u001b[1m2683/2683\u001b[0m \u001b[32m━━━━━━━━━━━━━━━━━━━━\u001b[0m\u001b[37m\u001b[0m \u001b[1m9s\u001b[0m 3ms/step - loss: 0.9620 - val_loss: 0.8803\n",
      "Epoch 20/20\n",
      "\u001b[1m2683/2683\u001b[0m \u001b[32m━━━━━━━━━━━━━━━━━━━━\u001b[0m\u001b[37m\u001b[0m \u001b[1m9s\u001b[0m 3ms/step - loss: 0.9677 - val_loss: 0.8803\n"
     ]
    },
    {
     "data": {
      "text/plain": [
       "<keras.src.callbacks.history.History at 0x784314f8ddd0>"
      ]
     },
     "execution_count": 12,
     "metadata": {},
     "output_type": "execute_result"
    }
   ],
   "source": [
    "from keras.models import Sequential\n",
    "from keras.layers import Dense\n",
    "from sklearn.preprocessing import StandardScaler\n",
    "\n",
    "scaler = StandardScaler()\n",
    "X_train_scaled = scaler.fit_transform(X_train[['processId', 'parentProcessId', 'userId']])\n",
    "\n",
    "# Build Autoencoder\n",
    "model_3 = Sequential([\n",
    "    Dense(64, activation='relu', input_dim = X_train_scaled.shape[1]),\n",
    "    Dense(32, activation='relu'),\n",
    "    Dense(16, activation='relu'),\n",
    "    Dense(32, activation='relu'),\n",
    "    Dense(64, activation='relu'),\n",
    "    Dense(X_train_scaled.shape[1], activation = 'sigmoid')\n",
    "])\n",
    "\n",
    "model_3.compile(optimizer='adam', loss='mean_squared_error')\n",
    "\n",
    "# Train autoencoder\n",
    "model_3.fit(X_train_scaled, X_train_scaled, epochs=20, batch_size=256, validation_split=0.1)"
   ]
  },
  {
   "cell_type": "code",
   "execution_count": 13,
   "metadata": {
    "colab": {
     "base_uri": "https://localhost:8080/"
    },
    "id": "-xDBdh6x_Sqa",
    "outputId": "49c810e5-3c0d-40f6-b3ce-722b100e5ff1"
   },
   "outputs": [
    {
     "name": "stdout",
     "output_type": "stream",
     "text": [
      "\u001b[1m23849/23849\u001b[0m \u001b[32m━━━━━━━━━━━━━━━━━━━━\u001b[0m\u001b[37m\u001b[0m \u001b[1m31s\u001b[0m 1ms/step\n",
      "\u001b[1m5906/5906\u001b[0m \u001b[32m━━━━━━━━━━━━━━━━━━━━\u001b[0m\u001b[37m\u001b[0m \u001b[1m9s\u001b[0m 1ms/step\n"
     ]
    }
   ],
   "source": [
    "# Calculate the threshold from the training data\n",
    "reconstruction_error_train = np.mean(np.abs(X_train_scaled - model_3.predict(X_train_scaled)), axis=1)\n",
    "threshold = np.percentile(reconstruction_error_train, 95)\n",
    "\n",
    "# Scale test data\n",
    "X_test_scaled = scaler.transform(X_test[['processId', 'parentProcessId', 'userId']])\n",
    "\n",
    "# Predict the reconstruction of the test data\n",
    "reconstructed_test = model_3.predict(X_test_scaled)\n",
    "\n",
    "# Calculate the reconstruction error for each test data point\n",
    "reconstruction_error_test = np.mean(np.abs(X_test_scaled - reconstructed_test), axis=1)\n",
    "\n",
    "# Classify test data points as anomalies (1) or normal (0)\n",
    "predictions = (reconstruction_error_test > threshold).astype(int)"
   ]
  },
  {
   "cell_type": "code",
   "execution_count": 14,
   "metadata": {
    "colab": {
     "base_uri": "https://localhost:8080/"
    },
    "id": "XIgWkEPt_XSU",
    "outputId": "4ba03e2d-2336-4c0b-c6c4-27c3ebb5f263"
   },
   "outputs": [
    {
     "name": "stdout",
     "output_type": "stream",
     "text": [
      "Precision: 0.9618489121528245\n",
      "Recall: 0.9928234195112099\n",
      "F1-Score: 0.9770907487125969\n",
      "ROC-AUC: 0.8942502556865038\n"
     ]
    }
   ],
   "source": [
    "from sklearn.metrics import precision_score, recall_score, f1_score, roc_auc_score\n",
    "\n",
    "precision = precision_score(y_test, predictions)\n",
    "recall = recall_score(y_test, predictions)\n",
    "f1 = f1_score(y_test, predictions)\n",
    "roc_auc = roc_auc_score(y_test, predictions)\n",
    "\n",
    "print(f\"Precision: {precision}\")\n",
    "print(f\"Recall: {recall}\")\n",
    "print(f\"F1-Score: {f1}\")\n",
    "print(f\"ROC-AUC: {roc_auc}\")"
   ]
  },
  {
   "cell_type": "code",
   "execution_count": 15,
   "metadata": {
    "colab": {
     "base_uri": "https://localhost:8080/"
    },
    "id": "xCXaZ5dOcf7f",
    "outputId": "48423f31-e36d-42a8-ce2b-461f918573b1"
   },
   "outputs": [
    {
     "name": "stdout",
     "output_type": "stream",
     "text": [
      "              precision    recall  f1-score   support\n",
      "\n",
      "           0       0.96      0.80      0.87     30535\n",
      "           1       0.96      0.99      0.98    158432\n",
      "\n",
      "    accuracy                           0.96    188967\n",
      "   macro avg       0.96      0.89      0.92    188967\n",
      "weighted avg       0.96      0.96      0.96    188967\n",
      "\n"
     ]
    }
   ],
   "source": [
    "# Generate classification report\n",
    "print(classification_report(y_test, predictions))"
   ]
  },
  {
   "cell_type": "code",
   "execution_count": 16,
   "metadata": {
    "colab": {
     "base_uri": "https://localhost:8080/",
     "height": 472
    },
    "id": "CqX5_WYU_Z6K",
    "outputId": "f6e10f27-c53b-4906-dd2b-b5cde11ee674"
   },
   "outputs": [
    {
     "data": {
      "image/png": "[encoded data removed]",
      "text/plain": [
       "<Figure size 640x480 with 1 Axes>"
      ]
     },
     "metadata": {},
     "output_type": "display_data"
    }
   ],
   "source": [
    "from sklearn.metrics import precision_recall_curve\n",
    "import matplotlib.pyplot as plt\n",
    "\n",
    "precision, recall, thresholds = precision_recall_curve(y_test, reconstruction_error_test)\n",
    "\n",
    "plt.plot(recall, precision, marker='.')\n",
    "plt.xlabel('Recall')\n",
    "plt.ylabel('Precision')\n",
    "plt.title('Precision-Recall Curve')\n",
    "plt.show()"
   ]
  },
  {
   "cell_type": "code",
   "execution_count": 17,
   "metadata": {
    "colab": {
     "base_uri": "https://localhost:8080/",
     "height": 472
    },
    "id": "ieM5qrcRCL1Y",
    "outputId": "72d977f2-8b98-4f18-926f-44f47d876692"
   },
   "outputs": [
    {
     "data": {
      "image/png": "[encoded data removed]",
      "text/plain": [
       "<Figure size 640x480 with 1 Axes>"
      ]
     },
     "metadata": {},
     "output_type": "display_data"
    }
   ],
   "source": [
    "from sklearn.metrics import roc_curve\n",
    "\n",
    "fpr, tpr, _ = roc_curve(y_test, reconstruction_error_test)\n",
    "\n",
    "# Calculate the ROC AUC score\n",
    "roc_auc = roc_auc_score(y_test, reconstruction_error_test)\n",
    "\n",
    "# Plot the ROC curve\n",
    "plt.plot(fpr, tpr, marker='.')\n",
    "plt.xlabel('False Positive Rate')\n",
    "plt.ylabel('True Positive Rate')\n",
    "plt.title(f'ROC Curve (AUC = {roc_auc:.2f})')  # Display the AUC score on the title\n",
    "\n",
    "# Show the plot\n",
    "plt.show()"
   ]
  }
 ],
 "metadata": {
  "colab": {
   "provenance": []
  },
  "kernelspec": {
   "display_name": "Python 3 (ipykernel)",
   "language": "python",
   "name": "python3"
  },
  "language_info": {
   "codemirror_mode": {
    "name": "ipython",
    "version": 3
   },
   "file_extension": ".py",
   "mimetype": "text/x-python",
   "name": "python",
   "nbconvert_exporter": "python",
   "pygments_lexer": "ipython3",
   "version": "3.12.4"
  }
 },
 "nbformat": 4,
 "nbformat_minor": 4
}
