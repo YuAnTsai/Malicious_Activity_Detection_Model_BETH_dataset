{
 "cells": [
  {
   "cell_type": "markdown",
   "id": "65154e86-63e5-4453-9bb6-004e1dd40692",
   "metadata": {},
   "source": [
    "Failed training, taking too much time to train the model"
   ]
  },
  {
   "cell_type": "code",
   "execution_count": 2,
   "id": "20102653-2b67-4c84-a69c-e55c0683c349",
   "metadata": {},
   "outputs": [],
   "source": [
    "import numpy as np\n",
    "import pandas as pd\n",
    "import seaborn as sns\n",
    "import matplotlib.pyplot as plt\n",
    "from sklearn.svm import OneClassSVM\n",
    "import time\n",
    "from sklearn.metrics import classification_report\n",
    "from sklearn.metrics import confusion_matrix\n",
    "# import sklearn"
   ]
  },
  {
   "cell_type": "code",
   "execution_count": 4,
   "id": "aae0ef3e-fabb-4bfd-bdfc-ee58b540be6c",
   "metadata": {},
   "outputs": [],
   "source": [
    "df_train = pd.read_csv('labelled_training_data.csv')\n",
    "df_valid = pd.read_csv('labelled_validation_data.csv')\n",
    "df_test = pd.read_csv('labelled_testing_data.csv')"
   ]
  },
  {
   "cell_type": "code",
   "execution_count": 6,
   "id": "4f1bda9d-37b3-4183-8ea6-204ef090bcf6",
   "metadata": {},
   "outputs": [],
   "source": [
    "def preprocess(df):\n",
    "    # Provided by BETH author (Highman 2021)\n",
    "    df_preprocessed = pd.DataFrame(df[['processId', 'parentProcessId', 'userId', 'mountNamespace', 'eventId', 'returnValue']])\n",
    "\n",
    "    # Process IDs: Map to 0 for OS processes, else 1\n",
    "    df_preprocessed['processId'] = df['processId'].map(lambda x: 0 if x in [0, 1, 2] else 1)  # Map to OS\n",
    "\n",
    "    # Parent Process IDs: Map to 0 for OS processes, else 1\n",
    "    df_preprocessed['parentProcessId'] = df['parentProcessId'].map(lambda x: 0 if x in [0, 1, 2] else 1)  # Map to OS\n",
    "\n",
    "    # User IDs: Map to 1 for users with IDs < 1000 (likely OS users), else 0\n",
    "    df_preprocessed['userId'] = df['userId'].map(lambda x: 1 if x < 1000 else 0)  # Map to OS users\n",
    "\n",
    "    # Namespace IDs: Check for specific value (402653184) for certain processes, else map to 0\n",
    "    df_preprocessed['mountNamespace'] = df['mountNamespace'].map(lambda x: 0 if x == 402653184 else 1)  # Check for OS processes\n",
    "\n",
    "    # Event IDs: Keep event IDs as is (assuming we need to know the maximum value)\n",
    "    df_preprocessed['eventId'] = df['eventId']\n",
    "\n",
    "    # Return Value: Map returnValue to 0 for 'failure', 1 for 'success', or 2 for unknown\n",
    "    df_preprocessed['returnValue'] = df['returnValue'].map(lambda x: 0 if x == 0 else (1 if x == 1 else 2))\n",
    "    \n",
    "    return df_preprocessed"
   ]
  },
  {
   "cell_type": "code",
   "execution_count": 8,
   "id": "2621463e-11ab-4b74-971b-d0bc6e54e232",
   "metadata": {},
   "outputs": [],
   "source": [
    "df_train_preprocessed = preprocess(df_train)\n",
    "df_valid_preprocessed = preprocess(df_valid)\n",
    "df_test_preprocessed = preprocess(df_test)"
   ]
  },
  {
   "cell_type": "code",
   "execution_count": 12,
   "id": "190335f8-7280-484d-a8f3-4fa2679aa8fa",
   "metadata": {},
   "outputs": [
    {
     "name": "stdout",
     "output_type": "stream",
     "text": [
      "Training started...\n",
      "Training completed in 3848.45 seconds.\n"
     ]
    }
   ],
   "source": [
    "# Instantiate the One-Class SVM model\n",
    "clf = OneClassSVM(kernel='rbf', nu=0.1, gamma='scale')\n",
    "\n",
    "# Track start time\n",
    "start_time = time.time()\n",
    "\n",
    "# Fit the model to the training data\n",
    "clf.fit(df_train_preprocessed[:1])\n",
    "\n",
    "print(\"Training started...\")\n",
    "\n",
    "# Fit the model to the training data\n",
    "clf.fit(df_train_preprocessed)\n",
    "\n",
    "# Track end time\n",
    "end_time = time.time()\n",
    "\n",
    "# Calculate the total training time\n",
    "training_time = end_time - start_time\n",
    "print(f\"Training completed in {training_time:.2f} seconds.\")"
   ]
  },
  {
   "cell_type": "code",
   "execution_count": 16,
   "id": "710c4a3a-5127-4e21-97d8-a4ae43fb483c",
   "metadata": {},
   "outputs": [],
   "source": [
    "# even just one record is taking forever to train"
   ]
  },
  {
   "cell_type": "code",
   "execution_count": null,
   "id": "fd924c2a-3d1e-4deb-95c5-aa18bb040149",
   "metadata": {},
   "outputs": [],
   "source": [
    "# Get the decision function scores for the test data\n",
    "decision_scores = svm.decision_function(X_test)\n",
    "\n",
    "print(\"Decision Function Scores:\", decision_scores)"
   ]
  }
 ],
 "metadata": {
  "kernelspec": {
   "display_name": "Python 3 (ipykernel)",
   "language": "python",
   "name": "python3"
  },
  "language_info": {
   "codemirror_mode": {
    "name": "ipython",
    "version": 3
   },
   "file_extension": ".py",
   "mimetype": "text/x-python",
   "name": "python",
   "nbconvert_exporter": "python",
   "pygments_lexer": "ipython3",
   "version": "3.12.4"
  }
 },
 "nbformat": 4,
 "nbformat_minor": 5
}
