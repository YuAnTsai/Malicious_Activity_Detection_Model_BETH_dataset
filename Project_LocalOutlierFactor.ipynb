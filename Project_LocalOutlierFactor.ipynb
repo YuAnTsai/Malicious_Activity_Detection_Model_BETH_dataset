{
 "cells": [
  {
   "cell_type": "markdown",
   "id": "f2934487-1c1b-4848-b562-d33fe32ce689",
   "metadata": {},
   "source": [
    "Failed training, taking too much time to train the model"
   ]
  },
  {
   "cell_type": "code",
   "execution_count": 1,
   "id": "006d2026-3ee4-4811-8fa4-a151a8054dd9",
   "metadata": {},
   "outputs": [],
   "source": [
    "import numpy as np\n",
    "import pandas as pd\n",
    "import seaborn as sns\n",
    "# import the model package\n",
    "from sklearn.neighbors import LocalOutlierFactor\n",
    "from sklearn.ensemble import IsolationForest\n",
    "from sklearn.metrics import classification_report\n",
    "from sklearn.metrics import confusion_matrix\n",
    "# import sklearn"
   ]
  },
  {
   "cell_type": "code",
   "execution_count": 3,
   "id": "a50f1a2d-4ed8-45f6-8567-b1142dd1b0fe",
   "metadata": {},
   "outputs": [],
   "source": [
    "# Load your data\n",
    "df_train = pd.read_csv('labelled_training_data.csv')\n",
    "df_valid = pd.read_csv('labelled_validation_data.csv')\n",
    "df_test = pd.read_csv('labelled_testing_data.csv')"
   ]
  },
  {
   "cell_type": "code",
   "execution_count": 2,
   "id": "a1129900-0830-48ca-ad8c-5377736967c7",
   "metadata": {},
   "outputs": [],
   "source": [
    "# want to include but not included:\n",
    "# timestamp, processName(but it probably means the same to processId, and might miss categories), stackAddresses, args\n",
    "\n",
    "def preprocess(df):\n",
    "    # Provided by BETH author (Highman 2021)\n",
    "    df_preprocessed = pd.DataFrame(df[['processId', 'parentProcessId', 'userId', 'mountNamespace', 'eventId', 'returnValue']])\n",
    "\n",
    "    # Process IDs: Map to 0 for OS processes, else 1\n",
    "    df_preprocessed['processId'] = df['processId'].map(lambda x: 0 if x in [0, 1, 2] else 1)  # Map to OS\n",
    "\n",
    "    # Parent Process IDs: Map to 0 for OS processes, else 1\n",
    "    df_preprocessed['parentProcessId'] = df['parentProcessId'].map(lambda x: 0 if x in [0, 1, 2] else 1)  # Map to OS\n",
    "\n",
    "    # User IDs: Map to 1 for users with IDs < 1000 (likely OS users), else 0\n",
    "    df_preprocessed['userId'] = df['userId'].map(lambda x: 1 if x < 1000 else 0)  # Map to OS users\n",
    "\n",
    "    # Namespace IDs: Check for specific value (402653184) for certain processes, else map to 0\n",
    "    df_preprocessed['mountNamespace'] = df['mountNamespace'].map(lambda x: 0 if x == 402653184 else 1)  # Check for OS processes\n",
    "\n",
    "    # Event IDs: Keep event IDs as is (assuming we need to know the maximum value) One-hot coding(?)\n",
    "    df_preprocessed['eventId'] = df['eventId']\n",
    "\n",
    "    # Return Value: Map returnValue to 0 for 'failure', 1 for 'success', or 2 for unknown\n",
    "    df_preprocessed['returnValue'] = df['returnValue'].map(lambda x: 0 if x == 0 else (1 if x == 1 else 2))\n",
    "\n",
    "    return df_preprocessed"
   ]
  },
  {
   "cell_type": "code",
   "execution_count": 7,
   "id": "0d2d88a6-3567-4635-912d-cff24388b91e",
   "metadata": {},
   "outputs": [],
   "source": [
    "df_train_preprocessed = preprocess(df_train)\n",
    "df_valid_preprocessed = preprocess(df_valid)\n",
    "df_test_preprocessed = preprocess(df_test)"
   ]
  },
  {
   "cell_type": "code",
   "execution_count": null,
   "id": "b36d19ed-19af-43f2-97b2-fb60775ae4f0",
   "metadata": {},
   "outputs": [],
   "source": [
    "clf = LocalOutlierFactor(n_neighbors = 20, contamination = 0.1)  # contamination = % of outliers in data\n",
    "predictions = clf.fit_predict(df_train_preprocessed)"
   ]
  }
 ],
 "metadata": {
  "kernelspec": {
   "display_name": "Python 3 (ipykernel)",
   "language": "python",
   "name": "python3"
  },
  "language_info": {
   "codemirror_mode": {
    "name": "ipython",
    "version": 3
   },
   "file_extension": ".py",
   "mimetype": "text/x-python",
   "name": "python",
   "nbconvert_exporter": "python",
   "pygments_lexer": "ipython3",
   "version": "3.12.4"
  }
 },
 "nbformat": 4,
 "nbformat_minor": 5
}
